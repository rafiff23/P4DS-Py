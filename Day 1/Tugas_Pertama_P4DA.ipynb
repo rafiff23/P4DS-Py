{
 "cells": [
  {
   "cell_type": "markdown",
   "id": "4df9f7ad",
   "metadata": {},
   "source": [
    "_This File Created by: Muhammad Rafif_"
   ]
  },
  {
   "cell_type": "markdown",
   "id": "8ffdbbbf",
   "metadata": {},
   "source": [
    "# Jupyter Notebook Practice"
   ]
  },
  {
   "cell_type": "markdown",
   "id": "bfdeaa18",
   "metadata": {},
   "source": [
    "## Background"
   ]
  },
  {
   "cell_type": "markdown",
   "id": "e5af8e3c",
   "metadata": {},
   "source": [
    "This file was created to practice understanding in using jupyter notebook."
   ]
  },
  {
   "cell_type": "markdown",
   "id": "083a6963",
   "metadata": {},
   "source": [
    "## Objective\n",
    "\n",
    "1. **Markdown** cell\n",
    "2. **Code** cell\n",
    "3. Inser Notes\n",
    "4. Insert link"
   ]
  },
  {
   "cell_type": "markdown",
   "id": "4842d29f",
   "metadata": {},
   "source": [
    "## Markdown Cell\n",
    "- You can document the computational process in a literate way, alternating descriptive text with code, using rich text,\n",
    "- The Markdown language provides a simple way to perform this text markup, that is, to specify which parts of the text should be:\n",
    " - emphasized (_italics_),\n",
    " - **bold**,\n",
    " - form list, etc.\n"
   ]
  },
  {
   "cell_type": "markdown",
   "id": "e4f490d8",
   "metadata": {},
   "source": [
    "## Code Cell\n",
    "- A code cell allows you to edit and write new code, with full syntax highlighting and tab completion,\n",
    "- We can use the `print()` function to print the text on the screen"
   ]
  },
  {
   "cell_type": "code",
   "execution_count": 15,
   "id": "b9ed9451",
   "metadata": {},
   "outputs": [
    {
     "name": "stdout",
     "output_type": "stream",
     "text": [
      "Hello World\n"
     ]
    }
   ],
   "source": [
    "# code here\n",
    "print('Hello World')"
   ]
  },
  {
   "cell_type": "markdown",
   "id": "4beb30f0",
   "metadata": {},
   "source": [
    "> The more you practice the more proficient you will use it"
   ]
  },
  {
   "cell_type": "markdown",
   "id": "69524d81",
   "metadata": {},
   "source": [
    "## Reference"
   ]
  },
  {
   "cell_type": "markdown",
   "id": "2dd9cea1",
   "metadata": {},
   "source": [
    "- [Markdown Cheatsheet](https://www.markdownguide.org/cheat-sheet/)"
   ]
  }
 ],
 "metadata": {
  "kernelspec": {
   "display_name": "theia_da",
   "language": "python",
   "name": "theia_da"
  },
  "language_info": {
   "codemirror_mode": {
    "name": "ipython",
    "version": 3
   },
   "file_extension": ".py",
   "mimetype": "text/x-python",
   "name": "python",
   "nbconvert_exporter": "python",
   "pygments_lexer": "ipython3",
   "version": "3.9.13"
  }
 },
 "nbformat": 4,
 "nbformat_minor": 5
}
